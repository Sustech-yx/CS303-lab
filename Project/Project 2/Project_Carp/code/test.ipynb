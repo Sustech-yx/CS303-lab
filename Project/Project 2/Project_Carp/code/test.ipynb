{
 "cells": [
  {
   "cell_type": "code",
   "execution_count": 3,
   "metadata": {
    "collapsed": true
   },
   "outputs": [],
   "source": [
    "import random\n",
    "import numpy as npy"
   ]
  },
  {
   "cell_type": "code",
   "execution_count": 35,
   "outputs": [
    {
     "name": "stdout",
     "output_type": "stream",
     "text": [
      "7\n",
      "[(1, 0), (2, 0), (0, 4), (0, 3), (5, 0), (6, 0), (7, 0)]\n"
     ]
    }
   ],
   "source": [
    "t = [(1, 0), (2, 0), (3, 0), (4, 0), (5, 0), (6, 0), (7, 0)]\n",
    "_l = len(t)\n",
    "print(_l)\n",
    "left = random.randint(0, _l-1)\n",
    "right = random.randint(0, _l-1)\n",
    "if left > right:\n",
    "    left, right = right, left\n",
    "temp = t[left:right]\n",
    "for i in range(0, len(temp)):\n",
    "    tt = temp[i]\n",
    "    a, b = tt\n",
    "    tt = (b, a)\n",
    "    temp[i] = tt\n",
    "temp = temp[::-1]\n",
    "t[left:right] = temp\n",
    "print(t)"
   ],
   "metadata": {
    "collapsed": false,
    "pycharm": {
     "name": "#%%\n"
    }
   }
  },
  {
   "cell_type": "code",
   "execution_count": null,
   "outputs": [],
   "source": [],
   "metadata": {
    "collapsed": false,
    "pycharm": {
     "name": "#%%\n"
    }
   }
  }
 ],
 "metadata": {
  "kernelspec": {
   "display_name": "Python 3",
   "language": "python",
   "name": "python3"
  },
  "language_info": {
   "codemirror_mode": {
    "name": "ipython",
    "version": 2
   },
   "file_extension": ".py",
   "mimetype": "text/x-python",
   "name": "python",
   "nbconvert_exporter": "python",
   "pygments_lexer": "ipython2",
   "version": "2.7.6"
  }
 },
 "nbformat": 4,
 "nbformat_minor": 0
}