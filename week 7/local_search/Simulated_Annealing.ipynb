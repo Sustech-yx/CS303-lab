{
 "cells": [
  {
   "cell_type": "code",
   "execution_count": 1,
   "metadata": {},
   "outputs": [],
   "source": [
    "import numpy as np\n",
    "import time"
   ]
  },
  {
   "cell_type": "markdown",
   "metadata": {},
   "source": [
    "# Simulated Annealing\n",
    "\n",
    "Solve the Sudoku problem with Simulated Annealing. You can design your own algorithm or simply refer to [Metaheuristics_can_solve_Sudoku_puzzles](https://www.researchgate.net/publication/220403361_Metaheuristics_can_solve_Sudoku_puzzles). \n",
    "\n",
    "The code provided below starts with making a problem instance and ends by visualizing the running process of SA."
   ]
  },
  {
   "cell_type": "code",
   "execution_count": 2,
   "metadata": {},
   "outputs": [
    {
     "name": "stdout",
     "output_type": "stream",
     "text": [
      "7.72 ms ± 2.8 ms per loop (mean ± std. dev. of 7 runs, 100 loops each)\n",
      "112 µs ± 4.3 µs per loop (mean ± std. dev. of 7 runs, 10000 loops each)\n"
     ]
    },
    {
     "data": {
      "text/plain": "array([[1, 2, 3, 4, 5, 6, 7, 8, 9],\n       [4, 5, 6, 7, 8, 9, 1, 2, 3],\n       [7, 8, 9, 1, 2, 3, 4, 5, 6],\n       [2, 3, 4, 5, 6, 7, 8, 9, 1],\n       [5, 6, 7, 8, 9, 1, 2, 3, 4],\n       [8, 9, 1, 2, 3, 4, 5, 6, 7],\n       [3, 4, 5, 6, 7, 8, 9, 1, 2],\n       [6, 7, 8, 9, 1, 2, 3, 4, 5],\n       [9, 1, 2, 3, 4, 5, 6, 7, 8]], dtype=int32)"
     },
     "execution_count": 2,
     "metadata": {},
     "output_type": "execute_result"
    }
   ],
   "source": [
    "# making a problem instance\n",
    "def make_grid_python(n):\n",
    "    grid = np.empty((n**2, n**2), int)\n",
    "    x = 0\n",
    "    for i in range(n):\n",
    "        for j in range(n):\n",
    "            for k in range(n**2):\n",
    "                grid[n*i+j, k] = x%(n**2) + 1\n",
    "                x += 1\n",
    "            x += n\n",
    "        x += 1\n",
    "    return grid\n",
    "\n",
    "def make_grid_numpy(n):\n",
    "    return np.fromfunction(lambda i, j: (i*n+i//n+j)%(n**2)+1, (n**2, n**2), dtype=int)\n",
    "\n",
    "# a comparison between native python and numpy\n",
    "# vary n to see their performances\n",
    "n = 10\n",
    "%timeit make_grid_python(n)\n",
    "%timeit make_grid_numpy(n)\n",
    "\n",
    "# test\n",
    "grid = make_grid_numpy(3)\n",
    "grid"
   ]
  },
  {
   "cell_type": "code",
   "execution_count": 146,
   "metadata": {},
   "outputs": [],
   "source": [
    "import random\n",
    "class Sudoku:\n",
    "    @classmethod\n",
    "    def create(cls, n, seed=303):\n",
    "        rng = np.random.default_rng(seed)\n",
    "        init_grid = make_grid_numpy(n)\n",
    "        # randomly mask out some cells to create a problem instance\n",
    "        # cells marked by *1* is given and fixed\n",
    "        mask = rng.integers(0, 2, size=init_grid.shape)\n",
    "        grid = init_grid*mask\n",
    "\n",
    "        return cls(n, mask, grid, seed)\n",
    "\n",
    "    def __init__(self, n, mask, grid, seed) -> None:\n",
    "        self.seed = seed\n",
    "        self.mask = mask\n",
    "        self.grid = grid\n",
    "        self.n = n\n",
    "        self.all = set(range(1, n**2+1))\n",
    "\n",
    "    def value(self):\n",
    "        # TODO: evaluate the current state, return a scalar value\n",
    "        def check(i, j, n, grid):\n",
    "            eng = 0\n",
    "            for r in range(n**2):\n",
    "                if grid[i][j] == grid[r][j] and i != r:\n",
    "                    eng += 1\n",
    "                if grid[i][j] == grid[i][r] and j != r:\n",
    "                    eng += 1\n",
    "            return eng\n",
    "        _n = self.n ** 2\n",
    "        res = 0\n",
    "        for i in range(_n):\n",
    "            for j in range(_n):\n",
    "                if self.mask[i][j] == 1:\n",
    "                    continue\n",
    "                res += check(i, j, self.n, self.grid)\n",
    "        return res\n",
    "\n",
    "    def local_search(self):\n",
    "        # TODO: apply your neighborhood search operator to get the next state\n",
    "        new_grid = self.grid.copy()\n",
    "        n = self.n\n",
    "        x0 = random.randint(0, n-1) * n\n",
    "        y0 = random.randint(0, n-1) * n\n",
    "        i1 = random.randint(0, n-1)\n",
    "        j1 = random.randint(0, n-1)\n",
    "        p1 = i1 + x0\n",
    "        q1 = j1 + y0\n",
    "        i2 = random.randint(0, n-1)\n",
    "        j2 = random.randint(0, n-1)\n",
    "        p2 = i2 + x0\n",
    "        q2 = j2 + y0\n",
    "        if self.mask[p1][q1] == 1 or self.mask[p2][q2] == 1 or new_grid[p2][q2] == new_grid[p1][q1]:\n",
    "            return self\n",
    "        else :\n",
    "            new_grid[p1][q1], new_grid[p2][q2] = new_grid[p2][q2], new_grid[p1][q1]\n",
    "        return Sudoku(n, self.mask, new_grid, self.seed)\n",
    "\n",
    "    def init_solution(self):\n",
    "        rng = np.random.default_rng(self.seed)\n",
    "        n = self.n\n",
    "        grid = self.grid.reshape(n, n, n, n).transpose(0, 2, 1, 3)\n",
    "        for I in np.ndindex(n, n):\n",
    "            idx = grid[I]==0\n",
    "            grid[I][idx] = rng.permutation(list(self.all-set(grid[I].flat)))\n",
    "        return self\n",
    "        \n",
    "    def __repr__(self) -> str:\n",
    "        return self.grid.__repr__()"
   ]
  },
  {
   "cell_type": "code",
   "execution_count": 159,
   "outputs": [
    {
     "name": "stdout",
     "output_type": "stream",
     "text": [
      "array([[9, 2, 3, 4, 3, 6, 8, 6, 9],\n",
      "       [4, 5, 1, 7, 8, 9, 1, 2, 3],\n",
      "       [7, 6, 8, 5, 2, 1, 4, 5, 7],\n",
      "       [2, 3, 4, 3, 6, 7, 4, 9, 1],\n",
      "       [5, 6, 7, 9, 1, 5, 5, 3, 8],\n",
      "       [8, 9, 1, 8, 2, 4, 7, 2, 6],\n",
      "       [3, 4, 5, 1, 9, 8, 4, 1, 2],\n",
      "       [6, 7, 8, 7, 2, 4, 3, 6, 5],\n",
      "       [9, 1, 2, 3, 6, 5, 9, 7, 8]], dtype=int64)\n",
      "array([[9, 2, 3, 4, 3, 6, 8, 6, 9],\n",
      "       [4, 5, 1, 7, 8, 9, 1, 2, 3],\n",
      "       [7, 6, 8, 5, 2, 1, 4, 5, 7],\n",
      "       [2, 3, 4, 3, 6, 7, 4, 9, 1],\n",
      "       [5, 6, 7, 9, 1, 5, 5, 3, 8],\n",
      "       [8, 9, 1, 8, 2, 4, 7, 2, 6],\n",
      "       [3, 4, 5, 1, 9, 8, 4, 1, 2],\n",
      "       [6, 7, 8, 7, 2, 4, 3, 6, 5],\n",
      "       [9, 1, 2, 3, 6, 5, 9, 7, 8]], dtype=int64)\n",
      "(array([0], dtype=int64),)\n"
     ]
    }
   ],
   "source": [
    "temp = Sudoku.create(3).init_solution()\n",
    "print(temp)\n",
    "c  = temp.local_search()\n",
    "print(c)\n",
    "print(np.where(temp == c))"
   ],
   "metadata": {
    "collapsed": false,
    "pycharm": {
     "name": "#%%\n"
    }
   }
  },
  {
   "cell_type": "code",
   "execution_count": 5,
   "outputs": [
    {
     "data": {
      "text/plain": "(array([[9, 2, 3, 4, 3, 6, 8, 6, 9],\n        [4, 5, 1, 7, 8, 9, 1, 2, 3],\n        [7, 6, 8, 5, 2, 1, 4, 5, 7],\n        [2, 3, 4, 3, 6, 7, 4, 9, 1],\n        [5, 6, 7, 9, 1, 5, 5, 3, 8],\n        [8, 9, 1, 8, 2, 4, 7, 2, 6],\n        [3, 4, 5, 1, 9, 8, 4, 1, 2],\n        [6, 7, 8, 7, 2, 4, 3, 6, 5],\n        [9, 1, 2, 3, 6, 5, 9, 7, 8]], dtype=int64),\n 44)"
     },
     "execution_count": 5,
     "metadata": {},
     "output_type": "execute_result"
    }
   ],
   "source": [
    "# test\n",
    "sudoku = Sudoku.create(3)\n",
    "sudoku = sudoku.init_solution()\n",
    "sudoku, sudoku.value()"
   ],
   "metadata": {
    "collapsed": false,
    "pycharm": {
     "name": "#%%\n"
    }
   }
  },
  {
   "cell_type": "code",
   "execution_count": 171,
   "metadata": {},
   "outputs": [],
   "source": [
    "def simulated_annealing(initial:Sudoku, schedule, halt, log_interval=200):\n",
    "    state = initial.init_solution()\n",
    "    print(state)\n",
    "    val = state.value()\n",
    "    t = 0           # time step\n",
    "    T = schedule(t) # temperature\n",
    "    f = [state.value()] # a recording of values\n",
    "    while not halt(T):\n",
    "        T = schedule(t)\n",
    "        new_state = state.local_search()\n",
    "        new_value = new_state.value()\n",
    "        # TODO: implement the replacement here\n",
    "        # take replacement\n",
    "        if val - new_value > 0:\n",
    "            state = new_state\n",
    "            val = new_value\n",
    "        elif random.random() < np.exp((val - new_value)/T):\n",
    "            state = new_state\n",
    "            val = new_value\n",
    "        # update time and temperature\n",
    "        if t % log_interval == 0:\n",
    "            print(f\"step {t}: T={T}, current_value={val}\")\n",
    "            f.append(val)\n",
    "        t += 1\n",
    "        if val == 0:\n",
    "            break\n",
    "        T = schedule(t)\n",
    "    print(f\"step {t}: T={T}, current_value={val}\")\n",
    "    return state, f"
   ]
  },
  {
   "cell_type": "code",
   "execution_count": 172,
   "metadata": {},
   "outputs": [
    {
     "name": "stdout",
     "output_type": "stream",
     "text": [
      "array([[9, 2, 3, 4, 3, 6, 8, 6, 9],\n",
      "       [4, 5, 1, 7, 8, 9, 1, 2, 3],\n",
      "       [7, 6, 8, 5, 2, 1, 4, 5, 7],\n",
      "       [2, 3, 4, 3, 6, 7, 4, 9, 1],\n",
      "       [5, 6, 7, 9, 1, 5, 5, 3, 8],\n",
      "       [8, 9, 1, 8, 2, 4, 7, 2, 6],\n",
      "       [3, 4, 5, 1, 9, 8, 4, 1, 2],\n",
      "       [6, 7, 8, 7, 2, 4, 3, 6, 5],\n",
      "       [9, 1, 2, 3, 6, 5, 9, 7, 8]], dtype=int64)\n",
      "step 0: T=1.0, current_value=43\n",
      "step 200: T=0.8186488294786356, current_value=38\n",
      "step 400: T=0.6701859060067401, current_value=24\n",
      "step 600: T=0.5486469074854967, current_value=22\n",
      "step 800: T=0.4491491486100751, current_value=19\n",
      "step 1000: T=0.36769542477096373, current_value=16\n",
      "step 1200: T=0.3010134290933991, current_value=16\n",
      "step 1400: T=0.2464242913846615, current_value=16\n",
      "step 1600: T=0.20173495769715533, current_value=15\n",
      "step 1800: T=0.16515008698369826, current_value=15\n",
      "step 2000: T=0.13519992539749945, current_value=15\n",
      "step 2200: T=0.11068126067226176, current_value=14\n",
      "step 2400: T=0.09060908449456684, current_value=14\n",
      "step 2600: T=0.07417702096160793, current_value=14\n",
      "step 2800: T=0.060724931384432544, current_value=13\n",
      "step 3000: T=0.04971239399803616, current_value=13\n",
      "step 3200: T=0.04069699315707305, current_value=13\n",
      "step 3400: T=0.033316545811337896, current_value=13\n",
      "step 3600: T=0.027274551230723105, current_value=13\n",
      "step 3800: T=0.02232827943958655, current_value=13\n",
      "step 4000: T=0.018279019827489414, current_value=13\n",
      "step 4200: T=0.01496409818579098, current_value=13\n",
      "step 4400: T=0.01225034146400116, current_value=13\n",
      "step 4600: T=0.010028727700218143, current_value=13\n",
      "step 4800: T=0.008210006192943552, current_value=13\n",
      "step 5000: T=0.006721111959865588, current_value=13\n",
      "step 5200: T=0.005502230438738822, current_value=13\n",
      "step 5400: T=0.004504394508195256, current_value=13\n",
      "step 5600: T=0.0036875172916440405, current_value=13\n",
      "step 5800: T=0.003018781714486622, current_value=13\n",
      "step 6000: T=0.0024713221170159817, current_value=13\n",
      "step 6200: T=0.002023144958359797, current_value=13\n",
      "step 6400: T=0.0016562452520268508, current_value=13\n",
      "step 6600: T=0.001355883236901329, current_value=13\n",
      "step 6800: T=0.0011099922247989767, current_value=13\n",
      "step 7000: T=0.0009086938355620688, current_value=13\n",
      "step 7200: T=0.0007439011448373393, current_value=13\n",
      "step 7400: T=0.0006089938014689048, current_value=13\n",
      "step 7600: T=0.0004985520627322635, current_value=13\n",
      "step 7800: T=0.00040813906258992675, current_value=13\n",
      "step 8000: T=0.00033412256585375113, current_value=13\n",
      "step 8200: T=0.0002735290474385717, current_value=13\n",
      "step 8400: T=0.00022392423451399288, current_value=13\n",
      "step 8600: T=0.00018331531247677975, current_value=13\n",
      "step 8800: T=0.00015007086598462605, current_value=13\n",
      "step 9000: T=0.00012285533877715932, current_value=13\n",
      "step 9200: T=0.0001005753792851227, current_value=13\n",
      "step 9400: T=8.233591652613551e-05, current_value=13\n",
      "step 9600: T=6.740420168817147e-05, current_value=13\n",
      "step 9800: T=5.5180370813963455e-05, current_value=13\n",
      "step 10000: T=4.517334597704824e-05, current_value=13\n",
      "step 10200: T=3.6981106807743975e-05, current_value=13\n",
      "step 10400: T=3.0274539800984007e-05, current_value=13\n",
      "step 10600: T=2.4784216571079923e-05, current_value=13\n",
      "step 10800: T=2.028956988545958e-05, current_value=13\n",
      "step 11000: T=1.661003263735646e-05, current_value=13\n",
      "step 11200: T=1.3597783776173799e-05, current_value=13\n",
      "step 11400: T=1.1131809771868262e-05, current_value=13\n",
      "step 11600: T=9.11304303971879e-06, current_value=13\n",
      "step 11800: T=7.460382017454214e-06, current_value=13\n",
      "step 12000: T=6.107433006052354e-06, current_value=13\n",
      "step 12200: T=4.999842881523944e-06, current_value=13\n",
      "step 12400: T=4.093115522536665e-06, current_value=13\n",
      "step 12600: T=3.3508242314454746e-06, current_value=13\n",
      "step 12800: T=2.7431483348614865e-06, current_value=13\n",
      "step 13000: T=2.2456751734206243e-06, current_value=13\n",
      "step 13200: T=1.838419352110026e-06, current_value=13\n",
      "step 13400: T=1.5050198506957442e-06, current_value=13\n",
      "step 13600: T=1.232082739114182e-06, current_value=13\n",
      "step 13800: T=1.008643092196656e-06, current_value=13\n",
      "step 14000: T=8.25724486788504e-07, current_value=13\n",
      "step 14200: T=6.759783845812558e-07, current_value=13\n",
      "step 14400: T=5.533889132903041e-07, current_value=13\n",
      "step 14600: T=4.530311861115616e-07, current_value=13\n",
      "step 14800: T=3.708734502275478e-07, current_value=13\n",
      "step 15000: T=3.03615115913485e-07, current_value=13\n",
      "step 15200: T=2.4855415925459474e-07, current_value=13\n",
      "step 15400: T=2.0347857153582036e-07, current_value=13\n",
      "step 15600: T=1.6657749441178416e-07, current_value=13\n",
      "step 15800: T=1.3636847081769104e-07, current_value=13\n",
      "step 16000: T=1.1163788901269425e-07, current_value=13\n",
      "step 16200: T=9.139222716570799e-08, current_value=13\n",
      "step 16400: T=7.481813979265239e-08, current_value=13\n",
      "step 16600: T=6.124978256502381e-08, current_value=13\n",
      "step 16800: T=5.014206280267768e-08, current_value=13\n",
      "step 17000: T=4.104874102105632e-08, current_value=13\n",
      "step 17200: T=3.360450378845941e-08, current_value=13\n",
      "step 17400: T=2.7510287691632665e-08, current_value=13\n",
      "step 17600: T=2.2521264817375596e-08, current_value=13\n",
      "step 17800: T=1.843700708112291e-08, current_value=13\n",
      "step 18000: T=1.5093434266050585e-08, current_value=13\n",
      "step 18200: T=1.235622229471504e-08, current_value=13\n",
      "step 18400: T=1.0115406918346288e-08, current_value=13\n",
      "step 18600: T=8.28096603340428e-09, current_value=13\n",
      "step 18800: T=6.779203150198754e-09, current_value=13\n",
      "step 19000: T=5.549786723708089e-09, current_value=13\n",
      "step 19200: T=4.543326405219699e-09, current_value=13\n",
      "step 19400: T=3.7193888435724836e-09, current_value=13\n",
      "step 19600: T=3.0448733231665094e-09, current_value=13\n",
      "step 19800: T=2.492681981920986e-09, current_value=13\n",
      "step 20000: T=2.0406311867621007e-09, current_value=13\n",
      "step 20200: T=1.6705603324403928e-09, current_value=13\n",
      "step 20400: T=1.367602260725768e-09, current_value=13\n",
      "step 20600: T=1.1195859899354857e-09, current_value=13\n",
      "step 20800: T=9.165477601613648e-10, current_value=13\n",
      "step 21000: T=7.503307510173665e-10, current_value=13\n",
      "step 21200: T=6.142573910421926e-10, current_value=13\n",
      "step 21400: T=5.028610941752915e-10, current_value=13\n",
      "step 21600: T=4.116666461369483e-10, current_value=13\n",
      "step 21800: T=3.370104179954084e-10, current_value=13\n",
      "step 22000: T=2.758931842140468e-10, current_value=13\n",
      "step 22200: T=2.2585963231796296e-10, current_value=13\n",
      "step 22400: T=1.8489972362357538e-10, current_value=13\n",
      "step 22600: T=1.513679423153632e-10, current_value=13\n",
      "step 22800: T=1.2391718879706173e-10, current_value=13\n",
      "step 23000: T=1.0144466156099767e-10, current_value=13\n",
      "step 23200: T=8.304755344376707e-11, current_value=13\n",
      "step 23400: T=6.798678241780435e-11, current_value=13\n",
      "step 23600: T=5.565729984635421e-11, current_value=13\n",
      "step 23800: T=4.5563783371159316e-11, current_value=13\n",
      "step 24000: T=3.7300737923417696e-11, current_value=13\n",
      "step 24200: T=3.0536205439695246e-11, current_value=13\n",
      "step 24400: T=2.4998428839925658e-11, current_value=13\n",
      "step 24600: T=2.0464934508610105e-11, current_value=13\n",
      "step 24800: T=1.6753594680830598e-11, current_value=13\n",
      "step 25000: T=1.3715310675021464e-11, current_value=13\n",
      "step 25200: T=1.1228023030042157e-11, current_value=13\n",
      "step 25400: T=9.191807910903174e-12, current_value=13\n",
      "step 25600: T=7.524862787053347e-12, current_value=13\n",
      "step 25800: T=6.160220112608565e-12, current_value=13\n",
      "step 26000: T=5.04305698451775e-12, current_value=13\n",
      "step 26200: T=4.128492697369514e-12, current_value=13\n",
      "step 26400: T=3.379785714212647e-12, current_value=13\n",
      "step 26600: T=2.766857618828798e-12, current_value=13\n",
      "step 26800: T=2.2650847509882403e-12, current_value=13\n",
      "step 27000: T=1.8543089800664298e-12, current_value=13\n",
      "step 27200: T=1.5180278760231052e-12, current_value=13\n",
      "step 27400: T=1.2427317438222544e-12, current_value=13\n",
      "step 27600: T=1.0173608874360322e-12, current_value=13\n",
      "step 27618: T=9.992032206159034e-13, current_value=13\n"
     ]
    },
    {
     "data": {
      "text/plain": "(array([[1, 2, 3, 5, 4, 6, 6, 8, 9],\n        [4, 5, 8, 7, 1, 9, 1, 2, 3],\n        [7, 6, 9, 8, 2, 3, 4, 5, 7],\n        [2, 3, 4, 9, 6, 7, 8, 5, 1],\n        [5, 6, 7, 1, 8, 2, 7, 3, 4],\n        [8, 9, 1, 3, 5, 4, 2, 9, 6],\n        [3, 4, 5, 6, 7, 8, 9, 1, 2],\n        [6, 7, 8, 4, 9, 1, 3, 6, 5],\n        [9, 1, 2, 3, 2, 5, 4, 7, 8]], dtype=int64),\n 13)"
     },
     "execution_count": 172,
     "metadata": {},
     "output_type": "execute_result"
    }
   ],
   "source": [
    "import matplotlib.pyplot as plt\n",
    "\n",
    "# define your own schedule and halt condition\n",
    "# run the algorithm on different n with different settings\n",
    "n = 3\n",
    "solution, record = simulated_annealing(\n",
    "    initial=Sudoku.create(n), \n",
    "    schedule=lambda t: 0.999**t, \n",
    "    halt=lambda T: T<1e-12,\n",
    "    log_interval=200\n",
    ")\n",
    "solution, solution.value()"
   ]
  },
  {
   "cell_type": "code",
   "execution_count": 173,
   "metadata": {},
   "outputs": [
    {
     "name": "stdout",
     "output_type": "stream",
     "text": [
      "140\n"
     ]
    },
    {
     "data": {
      "text/plain": "Text(0, 0.5, 'value')"
     },
     "execution_count": 173,
     "metadata": {},
     "output_type": "execute_result"
    },
    {
     "data": {
      "text/plain": "<Figure size 432x288 with 1 Axes>",
      "image/png": "[encoded data removed]"
     },
     "metadata": {
      "needs_background": "light"
     },
     "output_type": "display_data"
    }
   ],
   "source": [
    "print(len(record))\n",
    "# visualize the curve\n",
    "plt.plot(record)\n",
    "plt.xlabel(\"time step\")\n",
    "plt.ylabel(\"value\")"
   ]
  }
 ],
 "metadata": {
  "interpreter": {
   "hash": "dc1b36ca92b83d5ef109eaced03555f57acee2abd9fee9dc0fa9bba105170b52"
  },
  "kernelspec": {
   "name": "python3",
   "language": "python",
   "display_name": "Python 3"
  },
  "language_info": {
   "codemirror_mode": {
    "name": "ipython",
    "version": 3
   },
   "file_extension": ".py",
   "mimetype": "text/x-python",
   "name": "python",
   "nbconvert_exporter": "python",
   "pygments_lexer": "ipython3",
   "version": "3.8.10"
  },
  "orig_nbformat": 4
 },
 "nbformat": 4,
 "nbformat_minor": 2
}